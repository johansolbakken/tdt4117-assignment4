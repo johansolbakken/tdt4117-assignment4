{
 "cells": [
  {
   "cell_type": "code",
   "execution_count": null,
   "id": "63ca2200-e0ce-4af8-bdfb-9532b17b5cc1",
   "metadata": {},
   "outputs": [],
   "source": [
    "from datetime import datetime\n",
    "from elasticsearch import Elasticsearch\n",
    "import os\n",
    "\n",
    "ELASTIC_PASSWORD = \"p2iFCHUbC7ze1QoIMVw\"  # This should be securely handled\n",
    "\n",
    "# Connect to Elasticsearch\n",
    "es = Elasticsearch(\"http://elasticsearch:9200\",\n",
    "                    basic_auth=(\"elastic\", ELASTIC_PASSWORD))"
   ]
  },
  {
   "cell_type": "code",
   "execution_count": null,
   "id": "93d40d0c-9401-41ab-85ba-01ffba121098",
   "metadata": {},
   "outputs": [],
   "source": [
    "print(\"\\n---- Indexing Documents ----\")\n",
    "if es.indices.exists(index='my-index'):\n",
    "    es.indices.delete(index='my-index')\n",
    "\n",
    "for file in os.listdir(\"DataAssignment4\"):\n",
    "    if file.endswith(\".txt\"):\n",
    "        with open(os.path.join(\"DataAssignment4\", file), \"r\") as f:\n",
    "            content = f.read()\n",
    "            doc = {\n",
    "                'file': file,  # Changed for better readability\n",
    "                'text': content,\n",
    "                'timestamp': datetime.now(),\n",
    "            }\n",
    "            try:\n",
    "                res = es.index(index=\"my-index\", document=doc)\n",
    "                print(f\"Indexed: {file} - {res['result']}\")\n",
    "            except Exception as e:\n",
    "                print(f\"Error indexing file: {file}\\nException: {e}\")\n",
    "\n",
    "# Refresh the index after batch indexing\n",
    "es.indices.refresh(index=\"my-index\")\n"
   ]
  },
  {
   "cell_type": "code",
   "execution_count": null,
   "id": "b137d904-a317-445f-b425-acecff90d027",
   "metadata": {},
   "outputs": [],
   "source": [
    "# Define a function to print search results\n",
    "def print_search_results(search_result):\n",
    "    print(f\"Got {search_result['hits']['total']['value']} Hits:\")\n",
    "    for hit in search_result['hits']['hits']:\n",
    "        source = hit[\"_source\"]\n",
    "        timestamp = source['timestamp']\n",
    "        file_name = source['file']\n",
    "        text_preview = source['text'][:97] + \"...\" if len(source['text']) > 100 else source['text']\n",
    "        print(f\"  {timestamp} {file_name}: {text_preview}\")\n",
    "\n",
    "\n",
    "# Search queries\n",
    "print(\"\\n---- Search Results ----\")\n",
    "try:\n",
    "    res = es.search(index=\"my-index\", query={\"term\": {\"text\": \"claim\"}})\n",
    "    print(\"\\nTerm Query 'claim':\")\n",
    "    print_search_results(res)\n",
    "except Exception as e:\n",
    "    print(\"Search query failed:\", e)\n",
    "\n",
    "try:\n",
    "    res = es.search(index=\"my-index\", query={\"wildcard\": {\"text\": \"claim*\"}})\n",
    "    print(\"\\nWildcard Query 'claim*':\")\n",
    "    print_search_results(res)\n",
    "except Exception as e:\n",
    "    print(\"Search query failed:\", e)\n",
    "\n",
    "try:\n",
    "    res = es.search(index=\"my-index\", query={\"match_phrase\": {\"text\": \"claim of duty\"}})\n",
    "    print(\"\\nMatch Phrase Query 'claim of duty':\")\n",
    "    print_search_results(res)\n",
    "except Exception as e:\n",
    "    print(\"Search query failed:\", e)\n",
    "\n",
    "try:\n",
    "    res = es.search(index=\"my-index\", query={\n",
    "        \"bool\": {\n",
    "            \"must\": [\n",
    "                {\"match\": {\"text\": \"claims\"}},\n",
    "                {\"match\": {\"text\": \"of duty\"}}\n",
    "            ]\n",
    "        }\n",
    "    })\n",
    "    print(\"\\nBoolean Query 'claims of duty':\")\n",
    "    print_search_results(res)\n",
    "except Exception as e:\n",
    "    print(\"Search query failed:\", e)"
   ]
  },
  {
   "cell_type": "code",
   "execution_count": 2,
   "id": "73722595-d5ca-4373-add0-b28e411a12ff",
   "metadata": {},
   "outputs": [
    {
     "name": "stdout",
     "output_type": "stream",
     "text": [
      "Collecting elasticsearch\n",
      "  Downloading elasticsearch-8.10.1-py3-none-any.whl.metadata (5.1 kB)\n",
      "Collecting elastic-transport<9,>=8 (from elasticsearch)\n",
      "  Downloading elastic_transport-8.10.0-py3-none-any.whl.metadata (3.5 kB)\n",
      "Requirement already satisfied: urllib3<3,>=1.26.2 in /opt/conda/lib/python3.11/site-packages (from elastic-transport<9,>=8->elasticsearch) (2.0.7)\n",
      "Requirement already satisfied: certifi in /opt/conda/lib/python3.11/site-packages (from elastic-transport<9,>=8->elasticsearch) (2023.7.22)\n",
      "Downloading elasticsearch-8.10.1-py3-none-any.whl (409 kB)\n",
      "\u001b[2K   \u001b[90m━━━━━━━━━━━━━━━━━━━━━━━━━━━━━━━━━━━━━━━━\u001b[0m \u001b[32m409.3/409.3 kB\u001b[0m \u001b[31m9.9 MB/s\u001b[0m eta \u001b[36m0:00:00\u001b[0m:00:01\u001b[0m\n",
      "\u001b[?25hDownloading elastic_transport-8.10.0-py3-none-any.whl (59 kB)\n",
      "\u001b[2K   \u001b[90m━━━━━━━━━━━━━━━━━━━━━━━━━━━━━━━━━━━━━━━━\u001b[0m \u001b[32m59.8/59.8 kB\u001b[0m \u001b[31m13.7 MB/s\u001b[0m eta \u001b[36m0:00:00\u001b[0m\n",
      "\u001b[?25hInstalling collected packages: elastic-transport, elasticsearch\n",
      "Successfully installed elastic-transport-8.10.0 elasticsearch-8.10.1\n"
     ]
    }
   ],
   "source": [
    "!pip install elasticsearch"
   ]
  },
  {
   "cell_type": "code",
   "execution_count": 42,
   "id": "93d40d0c-9401-41ab-85ba-01ffba121098",
   "metadata": {},
   "outputs": [
    {
     "name": "stdout",
     "output_type": "stream",
     "text": [
      "\n",
      "---- Indexing Documents ----\n",
      "Indexed: Text4.txt - created\n",
      "Indexed: Text6.txt - created\n",
      "Indexed: Text5.txt - created\n",
      "Indexed: Text1.txt - created\n",
      "Indexed: Text2.txt - created\n",
      "Indexed: Text3.txt - created\n"
     ]
    },
    {
     "data": {
      "text/plain": [
       "ObjectApiResponse({'_shards': {'total': 2, 'successful': 1, 'failed': 0}})"
      ]
     },
     "execution_count": 42,
     "metadata": {},
     "output_type": "execute_result"
    }
   ],
   "source": [
    "print(\"\\n---- Indexing Documents ----\")\n",
    "if es.indices.exists(index='my-index'):\n",
    "    es.indices.delete(index='my-index')\n",
    "\n",
    "for file in os.listdir(\"DataAssignment4\"):\n",
    "    if file.endswith(\".txt\"):\n",
    "        with open(os.path.join(\"DataAssignment4\", file), \"r\") as f:\n",
    "            content = f.read()\n",
    "            doc = {\n",
    "                'file': file,  # Changed for better readability\n",
    "                'text': content,\n",
    "                'timestamp': datetime.now(),\n",
    "            }\n",
    "            try:\n",
    "                res = es.index(index=\"my-index\", document=doc)\n",
    "                print(f\"Indexed: {file} - {res['result']}\")\n",
    "            except Exception as e:\n",
    "                print(f\"Error indexing file: {file}\\nException: {e}\")\n",
    "\n",
    "# Refresh the index after batch indexing\n",
    "es.indices.refresh(index=\"my-index\")\n"
   ]
  }
 ],
 "metadata": {
  "kernelspec": {
   "display_name": "Python 3 (ipykernel)",
   "language": "python",
   "name": "python3"
  },
  "language_info": {
   "codemirror_mode": {
    "name": "ipython",
    "version": 3
   },
   "file_extension": ".py",
   "mimetype": "text/x-python",
   "name": "python",
   "nbconvert_exporter": "python",
   "pygments_lexer": "ipython3",
   "version": "3.11.6"
  }
 },
 "nbformat": 4,
 "nbformat_minor": 5
}
